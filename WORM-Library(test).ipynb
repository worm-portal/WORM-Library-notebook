{
 "cells": [
  {
   "cell_type": "markdown",
   "metadata": {},
   "source": [
    "<left>\n",
    "<table style=\"margin-top:0px; margin-left:0px;\">\n",
    "<tr>\n",
    "  <td><img src=\"https://raw.githubusercontent.com/worm-portal/WORM-Figures/master/style/worm.png\" alt=\"WORM\" title=\"WORM\" width=50/></td>\n",
    "  <td><h1 style=font-size:30px>WORM Library</h1><br />\n",
    "</tr>\n",
    "</table>\n",
    "</left>"
   ]
  },
  {
   "cell_type": "markdown",
   "metadata": {},
   "source": [
    "Welcome to the WORM Library! 📚\n",
    "\n",
    "Use this notebook to access tutorials, tools, and databases on the WORM Portal."
   ]
  },
  {
   "cell_type": "markdown",
   "metadata": {},
   "source": [
    "**Get a WORM demo by running any of the code cells in this notebook.**\n",
    "\n",
    "After the code cell is finished running, a folder containing the demo files should appear in your WORM Portal file directory.\n",
    "\n",
    "**Re-running a cell in this notebook will replace and refresh all files in the demo**. Keep this in mind if you decide to make any changes to demo files.\n",
    "\n",
    "Pick a demo that interests you or try them all! Feel free to copy and modify demo notebooks for your own use."
   ]
  },
  {
   "cell_type": "markdown",
   "metadata": {},
   "source": [
    "***"
   ]
  },
  {
   "cell_type": "markdown",
   "metadata": {},
   "source": [
    "## Table of Contents"
   ]
  },
  {
   "cell_type": "markdown",
   "metadata": {},
   "source": [
    "Click on the **Table of Contents** tab on the left side of your browser window for a table of contents.\n",
    "\n",
    "(This is the tab just above the puzzle piece icon.)\n",
    "\n",
    "To return to your files and folders, click on the tab with the **folder icon** on the left side of your browser window."
   ]
  },
  {
   "cell_type": "markdown",
   "metadata": {},
   "source": [
    "***"
   ]
  },
  {
   "cell_type": "markdown",
   "metadata": {},
   "source": [
    "## 0. WORM Tour\n",
    "\n",
    "Run through this demo to see working examples of water-organic-rock-microbe interactions you can calculate with the WORM Portal. Get a taste of modeling tools available on the WORM Portal."
   ]
  },
  {
   "cell_type": "code",
   "execution_count": null,
   "metadata": {},
   "outputs": [],
   "source": [
    "import WORMdemo\n",
    "WORMdemo.get_worm_tour()"
   ]
  },
  {
   "cell_type": "markdown",
   "metadata": {},
   "source": [
    "## 1. Introduction to the WORM Portal\n",
    "\n",
    "What is the WORM Portal? What can you do here? What are Jupyter notebooks? Learn more about WORM with this demo."
   ]
  },
  {
   "cell_type": "code",
   "execution_count": null,
   "metadata": {},
   "outputs": [],
   "source": [
    "import WORMdemo\n",
    "WORMdemo.get_introduction_demo()"
   ]
  },
  {
   "cell_type": "markdown",
   "metadata": {},
   "source": [
    "***"
   ]
  },
  {
   "cell_type": "markdown",
   "metadata": {},
   "source": [
    "## 2. Reaction Properties"
   ]
  },
  {
   "cell_type": "markdown",
   "metadata": {},
   "source": [
    "### 2-1. Introduction to Reaction Properties\n",
    "\n",
    "Learn how to calculate and plot reaction properties involving aqueous, crystalline, liquid, and gaseous chemical species. Calculate equilibrium constants, changes in Gibbs free energy, and more."
   ]
  },
  {
   "cell_type": "code",
   "execution_count": null,
   "metadata": {},
   "outputs": [],
   "source": [
    "import WORMdemo\n",
    "WORMdemo.get_reaction_properties_demo()"
   ]
  },
  {
   "cell_type": "markdown",
   "metadata": {},
   "source": [
    "### 2-2. Activity Diagrams\n",
    "\n",
    "Learn how to make interactive activity diagrams with this example for aqueous carbonate species as a function of pH. Then plot predominant chemical species as a function of pH and temperature. Learn how to make an Eh-pH diagram!"
   ]
  },
  {
   "cell_type": "code",
   "execution_count": null,
   "metadata": {},
   "outputs": [],
   "source": [
    "import WORMdemo\n",
    "WORMdemo.get_reaction_properties_demo()"
   ]
  },
  {
   "cell_type": "markdown",
   "metadata": {},
   "source": [
    "### 2-3. Animated Activity Diagrams\n",
    "\n",
    "See how activity diagrams change as you adjust pH, temperature, pressure, and chemical composition! Learn how to make animated activity diagrams that change as you slide a slider."
   ]
  },
  {
   "cell_type": "code",
   "execution_count": null,
   "metadata": {},
   "outputs": [],
   "source": [
    "import WORMdemo\n",
    "WORMdemo.get_reaction_properties_demo()"
   ]
  },
  {
   "cell_type": "markdown",
   "metadata": {},
   "source": [
    "### 2-4. Geothermometry and Univariant Curves\n",
    "\n",
    "Learn how aqueous silica geothermometry can be used to solve for 'temperatures of last equilibration' for dissolved silica and a mineral assemblage. In other words, solve for temperatures and pressures that result in a desired logK value."
   ]
  },
  {
   "cell_type": "code",
   "execution_count": null,
   "metadata": {},
   "outputs": [],
   "source": [
    "import WORMdemo\n",
    "WORMdemo.get_univariant_curve_demo()"
   ]
  },
  {
   "cell_type": "markdown",
   "metadata": {},
   "source": [
    "***"
   ]
  },
  {
   "cell_type": "markdown",
   "metadata": {},
   "source": [
    "## 3. Aqueous Geochemical Speciation"
   ]
  },
  {
   "cell_type": "markdown",
   "metadata": {},
   "source": [
    "### 3-1. Introduction to Aqueous Speciation\n",
    "\n",
    "Read this story about a geochemist to learn more about aqueous geochemical speciation. Speciate a sample dataset from a published paper (Leong *et al.* 2021) and plot the results."
   ]
  },
  {
   "cell_type": "code",
   "execution_count": null,
   "metadata": {},
   "outputs": [],
   "source": [
    "import WORMdemo\n",
    "WORMdemo.get_intro_aqueous_speciation_demo()"
   ]
  },
  {
   "cell_type": "markdown",
   "metadata": {},
   "source": [
    "### 3-2. Speciate multiple sample datasets at once\n",
    "\n",
    "Learn how to speciate several samples at once. Access the results in a table or view them with interactive plots."
   ]
  },
  {
   "cell_type": "code",
   "execution_count": null,
   "metadata": {},
   "outputs": [],
   "source": [
    "import WORMdemo\n",
    "WORMdemo.get_multi_aqueous_speciation_demo()"
   ]
  },
  {
   "cell_type": "markdown",
   "metadata": {},
   "source": [
    "### 3-3. Charge balance demo\n",
    "\n",
    "Learn how to calculate the (im)balance of positive and negative ions in solution. Impose charge balance by allowing the concentration of a chosen ion to shift."
   ]
  },
  {
   "cell_type": "code",
   "execution_count": null,
   "metadata": {},
   "outputs": [],
   "source": [
    "import WORMdemo\n",
    "WORMdemo.get_charge_balance_demo()"
   ]
  },
  {
   "cell_type": "markdown",
   "metadata": {},
   "source": [
    "### 3-4. Heterogeneous equilibrium demo\n",
    "\n",
    "Learn how to use minerals and gas fugacities to set concentrations of aqueous species."
   ]
  },
  {
   "cell_type": "markdown",
   "metadata": {},
   "source": [
    "### 3-4-1. Introduction to heterogeneous equilibrium\n",
    "\n",
    "A fluid is in equilibrium with granite. How does this affect the composition of the fluid?"
   ]
  },
  {
   "cell_type": "code",
   "execution_count": null,
   "metadata": {},
   "outputs": [],
   "source": [
    "import WORMdemo\n",
    "WORMdemo.get_heterogeneous_equilibrium_demo()"
   ]
  },
  {
   "cell_type": "markdown",
   "metadata": {},
   "source": [
    "### 3-4-2. Dissolving atmospheric carbon dioxide in river water\n",
    "\n",
    "Calculate the concentration of dissolved $CO_2$ in river water if it is in equilibrium with atmospheric carbon dioxide. How does dissolved $CO_2$ speciate? This demo also serves as an alternative introduction to the concept of speciation calculations."
   ]
  },
  {
   "cell_type": "code",
   "execution_count": null,
   "metadata": {},
   "outputs": [],
   "source": [
    "import WORMdemo\n",
    "WORMdemo.get_heterogeneous_equilibrium_gas_demo()"
   ]
  },
  {
   "cell_type": "markdown",
   "metadata": {},
   "source": [
    "### 3-5. Alter and Suppress\n",
    "\n",
    "Learn how to suppress chemical species in a speciation calculation. Learn how to adjust or replace the equilibrium constants of dissociation reactions."
   ]
  },
  {
   "cell_type": "code",
   "execution_count": null,
   "metadata": {},
   "outputs": [],
   "source": [
    "import WORMdemo\n",
    "WORMdemo.get_alter_suppress_demo()"
   ]
  },
  {
   "cell_type": "markdown",
   "metadata": {},
   "source": [
    "### 3-6. EQ3/6\n",
    "\n",
    "Already familiar with geochemical speciation software EQ3/6? Learn how to run 3i and 6i input files in a Jupyter notebook.\n",
    "\n",
    "Want to create a custom data0 file? Rapidly create one using custom thermodynamic dataset and your own temperature/pressure conditions."
   ]
  },
  {
   "cell_type": "markdown",
   "metadata": {},
   "source": [
    "#### 3-6-1. Speciate an EQ3 input file\n",
    "\n",
    "Learn how to run .3i files through EQ3 using a Jupyter notebook."
   ]
  },
  {
   "cell_type": "code",
   "execution_count": null,
   "metadata": {},
   "outputs": [],
   "source": [
    "import WORMdemo\n",
    "WORMdemo.get_EQ3_demo()"
   ]
  },
  {
   "cell_type": "markdown",
   "metadata": {},
   "source": [
    "#### 3-6-2. Speciate an EQ6 input file\n",
    "\n",
    "Learn how to run .6i files through EQ6 using a Jupyter notebook."
   ]
  },
  {
   "cell_type": "code",
   "execution_count": null,
   "metadata": {},
   "outputs": [],
   "source": [
    "import WORMdemo\n",
    "WORMdemo.get_EQ6_demo()"
   ]
  },
  {
   "cell_type": "markdown",
   "metadata": {},
   "source": [
    "#### 3-6-3. Create a custom data0 file\n",
    "\n",
    "Learn how to rapidly convert a CSV file containing thermodynamic data into an EQ3/6 data0 file calibrated to a desired set of temperature-pressure conditions. Load your custom data0 file into aqueous speciation calculations on the WORM Portal."
   ]
  },
  {
   "cell_type": "code",
   "execution_count": null,
   "metadata": {},
   "outputs": [],
   "source": [
    "import WORMdemo\n",
    "WORMdemo.get_custom_data0_demo()"
   ]
  },
  {
   "cell_type": "markdown",
   "metadata": {},
   "source": [
    "### 3-7. Mass Transfer and Reaction Paths\n",
    "\n",
    "Learn how to react speciated fluids with minerals. Calculate masses of minerals that form or dissolve, and how fluid composition changes, as a function of reaction progress."
   ]
  },
  {
   "cell_type": "markdown",
   "metadata": {},
   "source": [
    "#### 3-7-1. Introduction to Mass Transfer and Reaction Path Calculations\n",
    "\n",
    "React forsterite with a pH 8 fluid. What happens to system as the reaction progresses? Visualize reaction paths, mineral formation/dissolution, and the reaction path."
   ]
  },
  {
   "cell_type": "code",
   "execution_count": null,
   "metadata": {},
   "outputs": [],
   "source": [
    "import WORMdemo\n",
    "WORMdemo.get_intro_mass_transfer_demo()"
   ]
  },
  {
   "cell_type": "markdown",
   "metadata": {},
   "source": [
    "#### 3-7-2. Mass Transfer and Reaction Path Feature Demo\n",
    "\n",
    "Demonstrates ways to visualize what is going on in a more complicated system."
   ]
  },
  {
   "cell_type": "code",
   "execution_count": null,
   "metadata": {},
   "outputs": [],
   "source": [
    "import WORMdemo\n",
    "WORMdemo.get_mass_transfer_feature_demo()"
   ]
  },
  {
   "cell_type": "markdown",
   "metadata": {},
   "source": [
    "### 3-8. Dataset Exploration\n",
    "\n",
    "Learn how to set up speciation calculations using a variety of real water chemistry datasets from around the world."
   ]
  },
  {
   "cell_type": "code",
   "execution_count": null,
   "metadata": {},
   "outputs": [],
   "source": [
    "import WORMdemo\n",
    "WORMdemo.get_speciation_datasets_demo()"
   ]
  },
  {
   "cell_type": "markdown",
   "metadata": {},
   "source": [
    "***"
   ]
  },
  {
   "cell_type": "markdown",
   "metadata": {},
   "source": [
    "## 4. Estimate thermodynamic properties of aqueous organic compounds"
   ]
  },
  {
   "cell_type": "markdown",
   "metadata": {},
   "source": [
    "### 4.1. Introduction to the Aqueous Organic Estimator (AqOrg)\n",
    "\n",
    "Learn the core concepts behind estimating the thermodynamic properties of aqueous organic compounds. What is the group contribution method? Estimate the properties of 1-hexanol and compare the results to experimental data."
   ]
  },
  {
   "cell_type": "code",
   "execution_count": null,
   "metadata": {},
   "outputs": [],
   "source": [
    "import WORMdemo\n",
    "WORMdemo.get_intro_aqorg_demo()"
   ]
  },
  {
   "cell_type": "markdown",
   "metadata": {},
   "source": [
    "### 4.2. Aqueous Organic Estimator feature demo\n",
    "\n",
    "Get a brief overview of some of the features included with AqOrg for estimating the properties of aqueous organic molecules."
   ]
  },
  {
   "cell_type": "code",
   "execution_count": null,
   "metadata": {},
   "outputs": [],
   "source": [
    "import WORMdemo\n",
    "WORMdemo.get_aqorg_feature_demo()"
   ]
  },
  {
   "cell_type": "markdown",
   "metadata": {},
   "source": [
    "***"
   ]
  },
  {
   "cell_type": "markdown",
   "metadata": {},
   "source": [
    "## Workshop June 2023\n",
    "\n",
    "Learn how to model geochemical reactions between water and rock at elevated temperatures and pressures! Estimate values and masses of product minerals! Plot reaction path activity diagrams! "
   ]
  },
  {
   "cell_type": "code",
   "execution_count": null,
   "metadata": {},
   "outputs": [],
   "source": [
    "import WORMdemo\n",
    "WORMdemo.get_workshop_demo(\"Water-Rock\")"
   ]
  },
  {
   "cell_type": "markdown",
   "metadata": {},
   "source": [
    "***"
   ]
  },
  {
   "cell_type": "markdown",
   "metadata": {},
   "source": [
    "## Delete Demos\n",
    "\n",
    "Finished with your demos? Want to save disk space on the WORM server? (Thanks!)\n",
    "\n",
    "Remove the `#` in the cell below and then run it to delete all demo folders.\n",
    "\n",
    "**Warning!** This will delete all folders that begin with `Demo-` in the same directory as this notebook. You can preserve any folder by removing `Demo-` from its names."
   ]
  },
  {
   "cell_type": "code",
   "execution_count": null,
   "metadata": {},
   "outputs": [],
   "source": [
    "import WORMdemo\n",
    "#WORMdemo.delete_all_demos()"
   ]
  }
 ],
 "metadata": {
  "kernelspec": {
   "display_name": "Python 3",
   "language": "python",
   "name": "python3"
  },
  "language_info": {
   "codemirror_mode": {
    "name": "ipython",
    "version": 3
   },
   "file_extension": ".py",
   "mimetype": "text/x-python",
   "name": "python",
   "nbconvert_exporter": "python",
   "pygments_lexer": "ipython3",
   "version": "3.10.12"
  }
 },
 "nbformat": 4,
 "nbformat_minor": 4
}
